{
 "cells": [
  {
   "cell_type": "markdown",
   "id": "5a8d98de-01d1-457c-a1ab-248a573c90ff",
   "metadata": {},
   "source": [
    "![werwe](https://uploads-ssl.webflow.com/625391e03972c921373d60ba/6296d332b7e7cd998bf9035b_judge_logo_white.png)\n",
    "\n",
    "&nbsp;\n",
    "\n",
    "\n",
    "\n",
    "# Tutorial:  Towards a Sophisticated Research Methodology \n",
    "\n",
    "*Read time:  11 min.* \n",
    "\n",
    "&nbsp;\n",
    "\n",
    "----\n",
    "\n",
    "This tutorial demonstrates the ease-of-use and power of Judge Research.  If you complete it while referring back to our [wiki](https://judgeresearch.notion.site/The-Judge-Research-Wiki-37d2ae0159254928b483f01fec87b576) whenever a step's logic is not clear to you, you will be fully ready to use Judge Research.  \n",
    "\n",
    "You can use Judge Research to (1) contribute to the decentralized systematic fund & be rewarded; (2) test competing operationalizations with extreme rigour; (3) compare findings from initial (validation set) findings and live findings as they come in; and (4) engineer features that represent something important about the market, and develop rich dashboards that communicate that information in real time.\n",
    "\n",
    "----\n",
    "\n",
    "![](https://uploads-ssl.webflow.com/625391e03972c921373d60ba/626b3edab9b30b7f49b3f554_23519116918_1a87106387_k.jpeg)\n",
    "\n",
    "\n",
    "\n",
    "\n"
   ]
  },
  {
   "cell_type": "markdown",
   "id": "d48b0c0e-f88d-48a9-be6c-87774f704392",
   "metadata": {
    "slideshow": {
     "slide_type": "slide"
    }
   },
   "source": [
    "----\n",
    "\n",
    "## Introduction\n",
    "\n",
    "**The Workflow:**  You now have the data environment of a world-class hedge fund at your fingertips.  You can use it in this notebook to engage in feature engineering and display your preliminary findings in a single cohesive document; then submit your features to Judge Research and embed the live, interactive data tools from your dashboard into this document.    \n",
    "\n",
    "**What it Accomplishes:**  With a few clicks, you turn this document into a live research tool linked up to an AI run on massively parallel processes & coded out by a team of PhDs.  It evaluates your features across millions of modeling contexts, ranks and compares them to what is in the market's larger data environment, and rigorously tests them for overfit.    \n",
    "\n",
    "----\n"
   ]
  },
  {
   "cell_type": "markdown",
   "id": "aea99b79-d5ea-4b1e-9647-ca68a10d4173",
   "metadata": {
    "slideshow": {
     "slide_type": "subslide"
    },
    "tags": []
   },
   "source": [
    "### The Tech Stack & the Decentralized Systematic Fund\n",
    "\n",
    "This tutorial is meant for those who want to be rewarded for contributing to the decentralized systematic fund, and to use the fund as a new *kind* of research tool.  \n",
    "\n",
    "We will soon be launching a SaaS version of the software.  It will allow you to take advantage of the above functionality without participating in the decentralized fund.  Your features & algorithms will be sent to a version of the AI that only looks at your fund's features and algorithms but still ranks & evaluates them for overfit in real time. \n",
    "\n",
    "Likewise, you can use the SaaS version to collaborate with other funds without revealing IP to one another.  We believe this type of collaboration is novel and has significant implications for the industry - allowing a small set of funds to match the capacities of the largest systematic funds.       \n",
    "\n",
    "----"
   ]
  },
  {
   "cell_type": "markdown",
   "id": "e34ba578-4c9b-4629-a922-110eae81e201",
   "metadata": {},
   "source": [
    "# Outline:  The Basic Steps for Submitting Your Features\n",
    "\n",
    "There are **three preliminary steps:**  \n",
    "\n",
    "1.  Authenticate & Setup the Workspace.\n",
    "2.  Configure the parameters of the historical data you would like to call, and the parameters of the series you are studying - for instance, the BTC-USD volatility series at 45 minute intervals.\n",
    "3.  Call, Organize & Clean the data.  \n",
    "\n",
    "These three steps are broken out by their underlying functions in the longer tutorial.  Here, wrapper functions shorten about 30 lines of code to one.  \n",
    "\n",
    "Step four is where you will spend 95% of your time:  Here you will **do your data exploration and feature engineering**.  There are then **three final steps:** \n",
    "\n",
    "5.  Submit your historical data.  This historical data submission will cover a time period from the beginning of a specified date - e.g. the 4 hr alpha test series begins on July  2019 - and continue up to the present moment.\n",
    "6.  Schedule the cron job to submit live features.\n",
    "7.  (Optional) Embed the data tools from your dashboard into the same notebook, writing up your findings to create live, interactive research tools and/or market signals. \n",
    "\n",
    "----\n",
    "\n"
   ]
  },
  {
   "cell_type": "markdown",
   "id": "6e7a0143-7cdd-4203-af91-706e715c66b8",
   "metadata": {
    "slideshow": {
     "slide_type": "slide"
    },
    "tags": []
   },
   "source": [
    "## 1.  Handle Your Authentications & Setup the Workspace\n",
    "Paste your keys:"
   ]
  },
  {
   "cell_type": "code",
   "execution_count": 72,
   "id": "7ac88d1d-ba1b-494d-a814-2d1c3d5cd55c",
   "metadata": {
    "tags": []
   },
   "outputs": [],
   "source": [
    "JR_API_KEY = \"xxx\" # Your Judge Research API was given to you upon sign-up.  You can find it under your profile.\n",
    "CA_API_KEY = \"xxx\" # Sign up at Coinalytix.io - 90 days free and no payment information need be entered."
   ]
  },
  {
   "cell_type": "markdown",
   "id": "34101f15-e2ea-451d-92f0-29d228d05169",
   "metadata": {},
   "source": [
    "Import the Judge Research & Coinalytix packages, as well as the python tools want:"
   ]
  },
  {
   "cell_type": "code",
   "execution_count": 73,
   "id": "98443c8a-890d-4753-82d3-f16e371a0b00",
   "metadata": {
    "slideshow": {
     "slide_type": "-"
    },
    "tags": []
   },
   "outputs": [],
   "source": [
    "# Import classes that handle API connections and parameters\n",
    "from historical_data import Coinalytix, HDParams\n",
    "from judgeresearch import JudgeResearch, JRParams\n",
    "\n",
    "# Import classes for data handling & visualization \n",
    "import json\n",
    "import scipy \n",
    "import plotly.graph_objects as go\n",
    "import pandas as pd\n",
    "from datetime import date, datetime, timedelta\n",
    "import pandas_ta as ta\n",
    "import time\n",
    "import math\n",
    "import numpy as np\n",
    "import statsmodels.api as sm\n",
    "import statsmodels.formula.api as smf \n",
    "\n",
    "from sklearn.linear_model import LinearRegression\n",
    "from sklearn.neighbors import KNeighborsClassifier\n",
    "from sklearn.preprocessing import PolynomialFeatures\n",
    "import sklearn\n",
    "import requests # these two not in other imports\n",
    "import json\n",
    "\n",
    "import JudgeHelperFuncs as jh\n",
    "from watchlist import colors"
   ]
  },
  {
   "cell_type": "markdown",
   "id": "e8ff0165-be9b-4ed8-b23c-72e2d1e13391",
   "metadata": {
    "slideshow": {
     "slide_type": "slide"
    },
    "tags": []
   },
   "source": [
    "----\n",
    "\n",
    "## 2. Configure Assets, Call, Organize & Clean the Data\n",
    "Define the parameters for the historical data you want to call.  Typically, you want to line up the start date(s) of your historical data with the start date of the GA instance(s) to which you'll eventually submit features.  You can finds those dates in our [wiki](https://judgeresearch.notion.site/The-Judge-Research-Wiki-37d2ae0159254928b483f01fec87b576). The below calls data from `startDateString` to t-1. "
   ]
  },
  {
   "cell_type": "code",
   "execution_count": 74,
   "id": "98273b3d-a27a-4164-83c3-7445f3b61e17",
   "metadata": {
    "tags": []
   },
   "outputs": [
    {
     "ename": "SyntaxError",
     "evalue": "invalid syntax (53671431.py, line 1)",
     "output_type": "error",
     "traceback": [
      "\u001b[0;36m  Input \u001b[0;32mIn [74]\u001b[0;36m\u001b[0m\n\u001b[0;31m    tc = jh.whichTickers(verbose = False, apiKey = CA_API_KEY, Which2 = 'ETH\", Which='[0-9]+|PERP', WhichExch ='') # tc: this call\u001b[0m\n\u001b[0m                                                                                            ^\u001b[0m\n\u001b[0;31mSyntaxError\u001b[0m\u001b[0;31m:\u001b[0m invalid syntax\n"
     ]
    }
   ],
   "source": [
    "tc = jh.whichTickers(verbose = False, apiKey = CA_API_KEY, Which2 = 'ETH\", Which='[0-9]+|PERP', WhichExch ='') # tc: this call\n",
    "print(tc)"
   ]
  },
  {
   "cell_type": "code",
   "execution_count": 65,
   "id": "ce41dca0-e39f-4536-a3dc-d533a689cd8b",
   "metadata": {
    "tags": []
   },
   "outputs": [
    {
     "name": "stdout",
     "output_type": "stream",
     "text": [
      "calling BTC-USDT-SPOT\n",
      "4h\n",
      "calling ETH-USDT-SPOT\n",
      "4h\n",
      "\n",
      "% of columns that needed to be interpolated\n",
      "StartDate    0.0\n",
      "Open         0.0\n",
      "High         0.0\n",
      "Low          0.0\n",
      "Close        0.0\n",
      "Volume       0.0\n",
      "dtype: float64\n",
      "\n",
      "dimensions of your DataFrame:\n",
      "(291, 6)\n",
      "\n",
      "...Call complete.\n"
     ]
    }
   ],
   "source": [
    "XDict = jh.assetCallLoop(exchangeList = ['BINANCE'], assetList = tc[', startDateString = \"2022-06-01 00:00:00\", perSize = '4h', APIKey = CA_API_KEY, verbose = True)"
   ]
  },
  {
   "cell_type": "markdown",
   "id": "ada756ab-daba-4614-90ed-f4b5a2107d3d",
   "metadata": {
    "slideshow": {
     "slide_type": "slide"
    },
    "tags": []
   },
   "source": [
    "----\n",
    "\n",
    "<img src = \"https://uploads-ssl.webflow.com/625391e03972c921373d60ba/6296d332b7e7cd998bf9035b_judge_logo_white.png\" width=400>\n",
    "\n",
    "## 4.  The Main Section:  Your Feature Engineering Sandbox\n",
    "\n",
    "It is good practice to write your preliminary findings down and frame explicitly the hypotheses you are investigating by sending your features into Judge Research.  Obviously, that is true with all research, but Judge Research is more than an AI:  It suggests an organization to your research that helps you confirm your intitial (validation set) findings with live data *at scale.*\n",
    "\n",
    "That is easy for any professional researcher to do for a small set of findings, but to making research **truly cumulative over the long run** is one of the primary functions of Judge Research. "
   ]
  },
  {
   "cell_type": "code",
   "execution_count": 66,
   "id": "ae67a73d-ede9-492a-8fd9-a27f2b1381dd",
   "metadata": {},
   "outputs": [],
   "source": [
    "btc = XDict['BTC-USDT-SPOT']\n",
    "eth = XDict['ETH-USDT-SPOT']\n",
    "\n",
    "\n",
    "y1 = (btc['Open'] - btc['Close']) / btc['Open']\n",
    "y1 = y1\n",
    "\n",
    "y1 = pd.concat(([btc['StartDate'], y1]), axis = 1)\n",
    "y1.columns = ['StartDate', 'feature']\n",
    "y1 = y1.applymap(str)"
   ]
  },
  {
   "cell_type": "code",
   "execution_count": 67,
   "id": "b2fa54f9-ea87-4c55-b5f9-43d9dadb223d",
   "metadata": {
    "slideshow": {
     "slide_type": "-"
    },
    "tags": []
   },
   "outputs": [
    {
     "data": {
      "text/html": [
       "<div>\n",
       "<style scoped>\n",
       "    .dataframe tbody tr th:only-of-type {\n",
       "        vertical-align: middle;\n",
       "    }\n",
       "\n",
       "    .dataframe tbody tr th {\n",
       "        vertical-align: top;\n",
       "    }\n",
       "\n",
       "    .dataframe thead th {\n",
       "        text-align: right;\n",
       "    }\n",
       "</style>\n",
       "<table border=\"1\" class=\"dataframe\">\n",
       "  <thead>\n",
       "    <tr style=\"text-align: right;\">\n",
       "      <th></th>\n",
       "      <th>StartDate</th>\n",
       "      <th>feature</th>\n",
       "    </tr>\n",
       "    <tr>\n",
       "      <th>StartDate</th>\n",
       "      <th></th>\n",
       "      <th></th>\n",
       "    </tr>\n",
       "  </thead>\n",
       "  <tbody>\n",
       "    <tr>\n",
       "      <th>2022-06-01 00:00:00</th>\n",
       "      <td>1654041600.0</td>\n",
       "      <td>0.004565879796610718</td>\n",
       "    </tr>\n",
       "    <tr>\n",
       "      <th>2022-06-01 04:00:00</th>\n",
       "      <td>1654056000.0</td>\n",
       "      <td>0.004581484982910265</td>\n",
       "    </tr>\n",
       "    <tr>\n",
       "      <th>2022-06-01 08:00:00</th>\n",
       "      <td>1654070400.0</td>\n",
       "      <td>-0.004141996798210994</td>\n",
       "    </tr>\n",
       "    <tr>\n",
       "      <th>2022-06-01 12:00:00</th>\n",
       "      <td>1654084800.0</td>\n",
       "      <td>0.026795996102400566</td>\n",
       "    </tr>\n",
       "    <tr>\n",
       "      <th>2022-06-01 16:00:00</th>\n",
       "      <td>1654099200.0</td>\n",
       "      <td>0.01907776180284036</td>\n",
       "    </tr>\n",
       "  </tbody>\n",
       "</table>\n",
       "</div>"
      ],
      "text/plain": [
       "                        StartDate                feature\n",
       "StartDate                                               \n",
       "2022-06-01 00:00:00  1654041600.0   0.004565879796610718\n",
       "2022-06-01 04:00:00  1654056000.0   0.004581484982910265\n",
       "2022-06-01 08:00:00  1654070400.0  -0.004141996798210994\n",
       "2022-06-01 12:00:00  1654084800.0   0.026795996102400566\n",
       "2022-06-01 16:00:00  1654099200.0    0.01907776180284036"
      ]
     },
     "execution_count": 67,
     "metadata": {},
     "output_type": "execute_result"
    }
   ],
   "source": [
    "y1.head(5)"
   ]
  },
  {
   "cell_type": "markdown",
   "id": "21220620-71ab-4ed7-b74f-e169f81a6665",
   "metadata": {},
   "source": [
    "As a further example, here are the simple are some simple moving average functions."
   ]
  },
  {
   "cell_type": "code",
   "execution_count": 69,
   "id": "a35d7e0a-8fbf-4f86-8b94-2090cca24e99",
   "metadata": {
    "tags": []
   },
   "outputs": [
    {
     "data": {
      "text/html": [
       "<div>\n",
       "<style scoped>\n",
       "    .dataframe tbody tr th:only-of-type {\n",
       "        vertical-align: middle;\n",
       "    }\n",
       "\n",
       "    .dataframe tbody tr th {\n",
       "        vertical-align: top;\n",
       "    }\n",
       "\n",
       "    .dataframe thead th {\n",
       "        text-align: right;\n",
       "    }\n",
       "</style>\n",
       "<table border=\"1\" class=\"dataframe\">\n",
       "  <thead>\n",
       "    <tr style=\"text-align: right;\">\n",
       "      <th></th>\n",
       "      <th>StartDate</th>\n",
       "      <th>Open</th>\n",
       "      <th>High</th>\n",
       "      <th>Low</th>\n",
       "      <th>Close</th>\n",
       "      <th>Volume</th>\n",
       "      <th>MACD_8_21_9</th>\n",
       "      <th>MACDh_8_21_9</th>\n",
       "      <th>MACDs_8_21_9</th>\n",
       "      <th>AO_5_34</th>\n",
       "      <th>BBL_5_2.0</th>\n",
       "      <th>BBM_5_2.0</th>\n",
       "      <th>BBU_5_2.0</th>\n",
       "      <th>BBB_5_2.0</th>\n",
       "      <th>BBP_5_2.0</th>\n",
       "      <th>feature</th>\n",
       "    </tr>\n",
       "    <tr>\n",
       "      <th>StartDate</th>\n",
       "      <th></th>\n",
       "      <th></th>\n",
       "      <th></th>\n",
       "      <th></th>\n",
       "      <th></th>\n",
       "      <th></th>\n",
       "      <th></th>\n",
       "      <th></th>\n",
       "      <th></th>\n",
       "      <th></th>\n",
       "      <th></th>\n",
       "      <th></th>\n",
       "      <th></th>\n",
       "      <th></th>\n",
       "      <th></th>\n",
       "      <th></th>\n",
       "    </tr>\n",
       "  </thead>\n",
       "  <tbody>\n",
       "    <tr>\n",
       "      <th>2022-07-19 00:00:00</th>\n",
       "      <td>1.658189e+09</td>\n",
       "      <td>1581.03</td>\n",
       "      <td>1626.48</td>\n",
       "      <td>1512.48</td>\n",
       "      <td>1517.65</td>\n",
       "      <td>15660.0342</td>\n",
       "      <td>95.552788</td>\n",
       "      <td>13.815178</td>\n",
       "      <td>81.737610</td>\n",
       "      <td>235.690206</td>\n",
       "      <td>1433.660471</td>\n",
       "      <td>1513.244</td>\n",
       "      <td>1592.827529</td>\n",
       "      <td>10.518268</td>\n",
       "      <td>0.527682</td>\n",
       "      <td>81.237953</td>\n",
       "    </tr>\n",
       "    <tr>\n",
       "      <th>2022-07-19 04:00:00</th>\n",
       "      <td>1.658203e+09</td>\n",
       "      <td>1516.24</td>\n",
       "      <td>1542.68</td>\n",
       "      <td>1493.57</td>\n",
       "      <td>1513.71</td>\n",
       "      <td>10628.3027</td>\n",
       "      <td>91.432894</td>\n",
       "      <td>7.756227</td>\n",
       "      <td>83.676667</td>\n",
       "      <td>229.324676</td>\n",
       "      <td>1448.081674</td>\n",
       "      <td>1520.194</td>\n",
       "      <td>1592.306326</td>\n",
       "      <td>9.487253</td>\n",
       "      <td>0.455042</td>\n",
       "      <td>66.276014</td>\n",
       "    </tr>\n",
       "    <tr>\n",
       "      <th>2022-07-19 08:00:00</th>\n",
       "      <td>1.658218e+09</td>\n",
       "      <td>1510.59</td>\n",
       "      <td>1511.11</td>\n",
       "      <td>1510.58</td>\n",
       "      <td>1510.76</td>\n",
       "      <td>44.2981</td>\n",
       "      <td>86.285334</td>\n",
       "      <td>2.086933</td>\n",
       "      <td>84.198400</td>\n",
       "      <td>220.888618</td>\n",
       "      <td>1446.485411</td>\n",
       "      <td>1518.986</td>\n",
       "      <td>1591.486589</td>\n",
       "      <td>9.545919</td>\n",
       "      <td>0.443269</td>\n",
       "      <td>60.590594</td>\n",
       "    </tr>\n",
       "  </tbody>\n",
       "</table>\n",
       "</div>"
      ],
      "text/plain": [
       "                        StartDate     Open     High      Low    Close  \\\n",
       "StartDate                                                               \n",
       "2022-07-19 00:00:00  1.658189e+09  1581.03  1626.48  1512.48  1517.65   \n",
       "2022-07-19 04:00:00  1.658203e+09  1516.24  1542.68  1493.57  1513.71   \n",
       "2022-07-19 08:00:00  1.658218e+09  1510.59  1511.11  1510.58  1510.76   \n",
       "\n",
       "                         Volume  MACD_8_21_9  MACDh_8_21_9  MACDs_8_21_9  \\\n",
       "StartDate                                                                  \n",
       "2022-07-19 00:00:00  15660.0342    95.552788     13.815178     81.737610   \n",
       "2022-07-19 04:00:00  10628.3027    91.432894      7.756227     83.676667   \n",
       "2022-07-19 08:00:00     44.2981    86.285334      2.086933     84.198400   \n",
       "\n",
       "                        AO_5_34    BBL_5_2.0  BBM_5_2.0    BBU_5_2.0  \\\n",
       "StartDate                                                              \n",
       "2022-07-19 00:00:00  235.690206  1433.660471   1513.244  1592.827529   \n",
       "2022-07-19 04:00:00  229.324676  1448.081674   1520.194  1592.306326   \n",
       "2022-07-19 08:00:00  220.888618  1446.485411   1518.986  1591.486589   \n",
       "\n",
       "                     BBB_5_2.0  BBP_5_2.0    feature  \n",
       "StartDate                                             \n",
       "2022-07-19 00:00:00  10.518268   0.527682  81.237953  \n",
       "2022-07-19 04:00:00   9.487253   0.455042  66.276014  \n",
       "2022-07-19 08:00:00   9.545919   0.443269  60.590594  "
      ]
     },
     "execution_count": 69,
     "metadata": {},
     "output_type": "execute_result"
    }
   ],
   "source": [
    "def feature_gen(df):\n",
    "    ''' calculate macd, awesome oscillator, and bbands '''\n",
    "    \n",
    "    # MACD\n",
    "    df.ta.macd(fast=8, slow=21, signal=9, min_periods=None, append=True)\n",
    "    \n",
    "    # Awesome Oscillator \n",
    "    df.ta.ao(high=df[\"High\"], low=df[\"Low\"], window1=5, window2=34, fillna=True, append=True)\n",
    "    df[\"AO_5_34\"] = pd.to_numeric(df[\"AO_5_34\"])\n",
    "    \n",
    "    # Bollinger Bands\n",
    "    df.ta.bbands(close=df[\"Close\"], append=True)\n",
    "    \n",
    "    # Calculate the feature by finding the difference of MACDs and AO, multiply by BBANDS\n",
    "    df[\"feature\"] = (df[\"AO_5_34\"] - df[\"MACDs_8_21_9\"]) * df[\"BBP_5_2.0\"]\n",
    "    df = df.fillna(0)\n",
    "    return df\n",
    " \n",
    "\n",
    "# Generate feature dataframe\n",
    "fdf = feature_gen(eth)\n",
    "fdf.tail(3)"
   ]
  },
  {
   "cell_type": "markdown",
   "id": "abf6a798-dbef-4090-b790-1e3a30ed0168",
   "metadata": {
    "slideshow": {
     "slide_type": "slide"
    }
   },
   "source": [
    "### Research & Chart:"
   ]
  },
  {
   "cell_type": "markdown",
   "id": "b09aaeb7-83fb-4416-b68b-57515c9dcc6f",
   "metadata": {
    "slideshow": {
     "slide_type": "skip"
    }
   },
   "source": [
    "\n"
   ]
  },
  {
   "cell_type": "code",
   "execution_count": 59,
   "id": "26802cac-cbe5-4a9c-b450-76ef69d44b8c",
   "metadata": {
    "slideshow": {
     "slide_type": "-"
    },
    "tags": []
   },
   "outputs": [],
   "source": [
    "def ctitle(indicator_name, ticker=\"BTC-USD\", length=100):\n",
    "    return f\"{ticker}: {indicator_name} from {recent_startdate} to {recent_enddate} ({length})\"\n",
    "\n",
    "\n",
    "def recent_bars(df, tf: str = \"1y\"):\n",
    "    # All Data: 0, Last Four Years: 0.25, Last Two Years: 0.5, This Year: 1, Last Half Year: 2, Last Quarter: 4\n",
    "    yearly_divisor = {\"all\": 0, \"10y\": 0.1, \"5y\": 0.2, \"4y\": 0.25, \"3y\": 1./3, \"2y\": 0.5, \"1y\": 1, \"6mo\": 2, \"3mo\": 4}\n",
    "    yd = yearly_divisor[tf] if tf in yearly_divisor.keys() else 0\n",
    "    return int(ta.RATE[\"TRADING_DAYS_PER_YEAR\"] / yd) if yd > 0 else df.shape[0]\n",
    "\n",
    "recent_startdate = fdf.tail(recent_bars(fdf)).index[0]\n",
    "recent_enddate = fdf.tail(recent_bars(fdf)).index[-1]"
   ]
  },
  {
   "cell_type": "code",
   "execution_count": 60,
   "id": "49929e1c-d267-4916-b849-27abf3182c04",
   "metadata": {
    "tags": []
   },
   "outputs": [
    {
     "data": {
      "text/plain": [
       "<matplotlib.lines.Line2D at 0x7f8179699610>"
      ]
     },
     "execution_count": 60,
     "metadata": {},
     "output_type": "execute_result"
    },
    {
     "data": {
      "image/png": "[encoded data removed]",
      "text/plain": [
       "<Figure size 1152x234 with 1 Axes>"
      ]
     },
     "metadata": {
      "needs_background": "light"
     },
     "output_type": "display_data"
    }
   ],
   "source": [
    "ind_size = (16, 3.25)\n",
    "fdf[[fdf.columns[9], fdf.columns[13], fdf.columns[15], fdf.columns[6]]].tail(recent_bars(fdf)).plot(figsize=(16, 2), color=colors(\"BkBl\"), linewidth=1.3)\n",
    "fdf[fdf.columns[15]].tail(recent_bars(fdf)).plot.area(figsize=ind_size, stacked=False, color=[\"silver\"], linewidth=1, title=ctitle(\"Chart\", ticker='ETH', length=recent_bars(fdf)), grid=True).axhline(y=0, color=\"black\", lw=1.1)"
   ]
  },
  {
   "cell_type": "markdown",
   "id": "8859cee3-703e-4daa-a7aa-ff410b7f517a",
   "metadata": {
    "tags": []
   },
   "source": [
    "### Analysis here\n",
    "\n",
    "Record your findings so they are clear to you and others in the **far off** in the future.  \n",
    "\n"
   ]
  },
  {
   "cell_type": "code",
   "execution_count": 61,
   "id": "a3da1a74-26ea-417a-a013-67316fa51bf6",
   "metadata": {
    "tags": []
   },
   "outputs": [
    {
     "data": {
      "text/html": [
       "<script type='text/javascript' src='https://prod-useast-a.online.tableau.com/javascripts/api/viz_v1.js'></script><div class='tableauPlaceholder' style='width: 1000px; height: 850px;'><object class='tableauViz' width='1000' height='850' style='display:none;'><param name='host_url' value='https%3A%2F%2Fprod-useast-a.online.tableau.com%2F' /> <param name='embed_code_version' value='3' /> <param name='site_root' value='&#47;t&#47;judgeresearchanalytics' /><param name='name' value='publicDemo1_LinePlot&#47;Dashboard3' /><param name='tabs' value='yes' /><param name='toolbar' value='yes' /><param name='display_count' value='n' /><param name='origin' value='viz_share_link' /><param name='showAppBanner' value='false' /></object></div>\n"
      ],
      "text/plain": [
       "<IPython.core.display.HTML object>"
      ]
     },
     "metadata": {},
     "output_type": "display_data"
    }
   ],
   "source": [
    "%%html \n",
    "<script type='text/javascript' src='https://prod-useast-a.online.tableau.com/javascripts/api/viz_v1.js'></script><div class='tableauPlaceholder' style='width: 1000px; height: 850px;'><object class='tableauViz' width='1000' height='850' style='display:none;'><param name='host_url' value='https%3A%2F%2Fprod-useast-a.online.tableau.com%2F' /> <param name='embed_code_version' value='3' /> <param name='site_root' value='&#47;t&#47;judgeresearchanalytics' /><param name='name' value='publicDemo1_LinePlot&#47;Dashboard3' /><param name='tabs' value='yes' /><param name='toolbar' value='yes' /><param name='display_count' value='n' /><param name='origin' value='viz_share_link' /><param name='showAppBanner' value='false' /></object></div>\n"
   ]
  },
  {
   "cell_type": "markdown",
   "id": "4e025d06-6fa3-48ab-9676-2c9ffc88720f",
   "metadata": {},
   "source": [
    "----"
   ]
  },
  {
   "cell_type": "markdown",
   "id": "aeac4ffd-39b3-4299-988c-67fb68a86888",
   "metadata": {},
   "source": [
    "\n",
    "<img src = \"https://uploads-ssl.webflow.com/625391e03972c921373d60ba/6296d332b7e7cd998bf9035b_judge_logo_white.png\" width=400>\n",
    "\n",
    "## 7.  Reference your live findings\n",
    "\n",
    "In steps 5 & 6, we submit our historicla data and our live data.  We put that at the end of the document, so we can make a cohesive research document here.  By embedding the data tools you find at Judge Research here, you hook this document up to our AI, making it a live, interactive tool."
   ]
  },
  {
   "cell_type": "markdown",
   "id": "80efc5a8-88b3-471e-9a63-31bb485ffb70",
   "metadata": {},
   "source": [
    "----\n",
    "\n",
    "### 7a.  The Overall Relationship With the Larger Data Environment - In Real Time\n",
    "\n",
    "First, we explore our data with tools that show the relationship as it evolves in real time:"
   ]
  },
  {
   "cell_type": "code",
   "execution_count": 49,
   "id": "ae4d12e6-ac4d-4793-afa1-0717a0002ece",
   "metadata": {
    "tags": []
   },
   "outputs": [
    {
     "data": {
      "text/html": [
       "<script type='text/javascript' src='https://prod-useast-a.online.tableau.com/javascripts/api/viz_v1.js'></script><div class='tableauPlaceholder' style='width: 1852px; height: 974px;'><object class='tableauViz' width='1852' height='974' style='display:none;'><param name='host_url' value='https%3A%2F%2Fprod-useast-a.online.tableau.com%2F' /> <param name='embed_code_version' value='3' /> <param name='site_root' value='&#47;t&#47;judgeresearchanalytics' /><param name='name' value='publicDemo1_LinePlot&#47;publicDemo1_InitialLineplot_1&#47;d2a274e3-3a03-46f0-ab7a-4a0dafafa7c5&#47;b45cc7e7-4c99-417d-b58c-69b69621e2d6' /><param name='tabs' value='yes' /><param name='toolbar' value='yes' /><param name='display_count' value='n' /><param name='origin' value='viz_share_link' /><param name='showAppBanner' value='false' /></object></div>\n"
      ],
      "text/plain": [
       "<IPython.core.display.HTML object>"
      ]
     },
     "metadata": {},
     "output_type": "display_data"
    }
   ],
   "source": [
    "\n",
    "%%html\n",
    "<script type='text/javascript' src='https://prod-useast-a.online.tableau.com/javascripts/api/viz_v1.js'></script><div class='tableauPlaceholder' style='width: 1852px; height: 974px;'><object class='tableauViz' width='1852' height='974' style='display:none;'><param name='host_url' value='https%3A%2F%2Fprod-useast-a.online.tableau.com%2F' /> <param name='embed_code_version' value='3' /> <param name='site_root' value='&#47;t&#47;judgeresearchanalytics' /><param name='name' value='publicDemo1_LinePlot&#47;publicDemo1_InitialLineplot_1&#47;d2a274e3-3a03-46f0-ab7a-4a0dafafa7c5&#47;b45cc7e7-4c99-417d-b58c-69b69621e2d6' /><param name='tabs' value='yes' /><param name='toolbar' value='yes' /><param name='display_count' value='n' /><param name='origin' value='viz_share_link' /><param name='showAppBanner' value='false' /></object></div>\n"
   ]
  },
  {
   "cell_type": "markdown",
   "id": "e617426f-f4bb-4515-8153-706513f058f8",
   "metadata": {
    "tags": []
   },
   "source": [
    "----\n",
    "\n",
    "## 7b. And As Time Series:  "
   ]
  },
  {
   "cell_type": "code",
   "execution_count": 50,
   "id": "a57563e2-10bb-4025-9baf-6a89cff569e3",
   "metadata": {
    "tags": []
   },
   "outputs": [
    {
     "data": {
      "text/html": [
       "<script type='text/javascript' src='https://prod-useast-a.online.tableau.com/javascripts/api/viz_v1.js'></script><div class='tableauPlaceholder' style='width: 1000px; height: 850px;'><object class='tableauViz' width='1000' height='850' style='display:none;'><param name='host_url' value='https%3A%2F%2Fprod-useast-a.online.tableau.com%2F' /> <param name='embed_code_version' value='3' /> <param name='site_root' value='&#47;t&#47;judgeresearchanalytics' /><param name='name' value='publicDemo1_LinePlot&#47;Dashboard5' /><param name='tabs' value='yes' /><param name='toolbar' value='yes' /><param name='display_count' value='n' /><param name='origin' value='viz_share_link' /><param name='showAppBanner' value='false' /></object></div>\n",
       "\n"
      ],
      "text/plain": [
       "<IPython.core.display.HTML object>"
      ]
     },
     "metadata": {},
     "output_type": "display_data"
    }
   ],
   "source": [
    "%%html\n",
    "<script type='text/javascript' src='https://prod-useast-a.online.tableau.com/javascripts/api/viz_v1.js'></script><div class='tableauPlaceholder' style='width: 1000px; height: 850px;'><object class='tableauViz' width='1000' height='850' style='display:none;'><param name='host_url' value='https%3A%2F%2Fprod-useast-a.online.tableau.com%2F' /> <param name='embed_code_version' value='3' /> <param name='site_root' value='&#47;t&#47;judgeresearchanalytics' /><param name='name' value='publicDemo1_LinePlot&#47;Dashboard5' /><param name='tabs' value='yes' /><param name='toolbar' value='yes' /><param name='display_count' value='n' /><param name='origin' value='viz_share_link' /><param name='showAppBanner' value='false' /></object></div>\n",
    "\n"
   ]
  },
  {
   "cell_type": "markdown",
   "id": "a007e954-0b38-4b65-92c1-c9f01d704b13",
   "metadata": {
    "tags": []
   },
   "source": [
    "----\n",
    "\n",
    "## 7c.  Digging Deeper into the Validation - Live Data juxtaposition:\n"
   ]
  },
  {
   "cell_type": "code",
   "execution_count": 51,
   "id": "677477c0-9d7c-4d9d-9a31-8fb94ae8ec90",
   "metadata": {
    "tags": []
   },
   "outputs": [
    {
     "data": {
      "text/html": [
       "<div class='tableauPlaceholder' id='viz1654618929623' style='position: relative'><noscript><a href='https:&#47;&#47;www.judgeresearch.co&#47;'><img alt='Dashboard 1 ' src='https:&#47;&#47;public.tableau.com&#47;static&#47;images&#47;ST&#47;STHS7Q85B&#47;1_rss.png' style='border: none' /></a></noscript><object class='tableauViz'  style='display:none;'><param name='host_url' value='https%3A%2F%2Fpublic.tableau.com%2F' /> <param name='embed_code_version' value='3' /> <param name='path' value='shared&#47;STHS7Q85B' /> <param name='toolbar' value='yes' /><param name='static_image' value='https:&#47;&#47;public.tableau.com&#47;static&#47;images&#47;ST&#47;STHS7Q85B&#47;1.png' /> <param name='animate_transition' value='yes' /><param name='display_static_image' value='yes' /><param name='display_spinner' value='yes' /><param name='display_overlay' value='yes' /><param name='display_count' value='yes' /><param name='tabs' value='no' /><param name='language' value='en-US' /></object></div>                <script type='text/javascript'>                    var divElement = document.getElementById('viz1654618929623');                    var vizElement = divElement.getElementsByTagName('object')[0];                    vizElement.style.width='1000px';vizElement.style.height='827px';                    var scriptElement = document.createElement('script');                    scriptElement.src = 'https://public.tableau.com/javascripts/api/viz_v1.js';                    vizElement.parentNode.insertBefore(scriptElement, vizElement);                </script>\n",
       "\n"
      ],
      "text/plain": [
       "<IPython.core.display.HTML object>"
      ]
     },
     "metadata": {},
     "output_type": "display_data"
    }
   ],
   "source": [
    "\n",
    "%%html\n",
    "<div class='tableauPlaceholder' id='viz1654618929623' style='position: relative'><noscript><a href='https:&#47;&#47;www.judgeresearch.co&#47;'><img alt='Dashboard 1 ' src='https:&#47;&#47;public.tableau.com&#47;static&#47;images&#47;ST&#47;STHS7Q85B&#47;1_rss.png' style='border: none' /></a></noscript><object class='tableauViz'  style='display:none;'><param name='host_url' value='https%3A%2F%2Fpublic.tableau.com%2F' /> <param name='embed_code_version' value='3' /> <param name='path' value='shared&#47;STHS7Q85B' /> <param name='toolbar' value='yes' /><param name='static_image' value='https:&#47;&#47;public.tableau.com&#47;static&#47;images&#47;ST&#47;STHS7Q85B&#47;1.png' /> <param name='animate_transition' value='yes' /><param name='display_static_image' value='yes' /><param name='display_spinner' value='yes' /><param name='display_overlay' value='yes' /><param name='display_count' value='yes' /><param name='tabs' value='no' /><param name='language' value='en-US' /></object></div>                <script type='text/javascript'>                    var divElement = document.getElementById('viz1654618929623');                    var vizElement = divElement.getElementsByTagName('object')[0];                    vizElement.style.width='1000px';vizElement.style.height='827px';                    var scriptElement = document.createElement('script');                    scriptElement.src = 'https://public.tableau.com/javascripts/api/viz_v1.js';                    vizElement.parentNode.insertBefore(scriptElement, vizElement);                </script>\n",
    "\n"
   ]
  },
  {
   "cell_type": "markdown",
   "id": "60e6c7bb-4906-4545-8f83-ee6f67ad8e88",
   "metadata": {
    "slideshow": {
     "slide_type": "slide"
    },
    "tags": []
   },
   "source": [
    "\n",
    "----\n",
    "\n",
    "### 7d.  And the Broader Class of Models across Generations of the SBGA:"
   ]
  },
  {
   "cell_type": "code",
   "execution_count": 21,
   "id": "3b72662b-f3e1-47eb-ba39-7fffcfe75683",
   "metadata": {
    "tags": []
   },
   "outputs": [
    {
     "data": {
      "text/html": [
       "<div src = http://ec2-18-223-235-219.us-east-2.compute.amazonaws.com:3838/ShinyPractice/LinePlot/54ckzfe5tj/>\n"
      ],
      "text/plain": [
       "<IPython.core.display.HTML object>"
      ]
     },
     "metadata": {},
     "output_type": "display_data"
    }
   ],
   "source": [
    "%%html\n",
    "<div src = http://ec2-18-223-235-219.us-east-2.compute.amazonaws.com:3838/ShinyPractice/LinePlot/54ckzfe5tj/>"
   ]
  },
  {
   "cell_type": "markdown",
   "id": "b7a6e3d7-6492-40e7-8e09-35451cb78e2f",
   "metadata": {},
   "source": [
    "----\n",
    "\n",
    "\n",
    "\n",
    "\n",
    "\n",
    "## Steps 5 and 6:  Submitting Your Historial & Live Series to Judge Research"
   ]
  },
  {
   "cell_type": "markdown",
   "id": "ff5f6371-1311-463a-a469-3c6b665674e9",
   "metadata": {
    "slideshow": {
     "slide_type": "slide"
    }
   },
   "source": [
    "Prepare the Connection to Judge Research:"
   ]
  },
  {
   "cell_type": "code",
   "execution_count": 10,
   "id": "e10588eb-a470-4763-a187-e850010b00f1",
   "metadata": {
    "slideshow": {
     "slide_type": "-"
    }
   },
   "outputs": [],
   "source": [
    "JR = JudgeResearch()\n",
    "JR.with_api_key(JR_API_KEY)"
   ]
  },
  {
   "cell_type": "markdown",
   "id": "75c3647d-07db-4375-a28c-d644a889b236",
   "metadata": {
    "slideshow": {
     "slide_type": "slide"
    }
   },
   "source": [
    "Format the Historical Features:  Below we specify which instance(s) of the AI are going to receive our feature(s).  Each instance is trained on a different dependent variable.   We communicate this to Judge Research by formatting our feature(s) as their JSON.  See the [API documentation in our wiki](https://judgeresearch.notion.site/Use-The-API-5143af17c10f407d91a8860a7c91936e) for information about each argument. \n",
    "\n",
    "For example, here we specify this submission is for BTC-USD at the 45 minute interval.   "
   ]
  },
  {
   "cell_type": "code",
   "execution_count": 13,
   "id": "f975ee4d-4259-47d8-8b2a-6f6b146662aa",
   "metadata": {
    "slideshow": {
     "slide_type": "-"
    },
    "tags": []
   },
   "outputs": [],
   "source": [
    "ft_params = JRParams()\n",
    "ft_params.mbs= \"240\" #                                mbs:  'minute bloc size' - the size of the discrete time bloc.  In the alpha test, options are 45 & 240.  \n",
    "ft_params.feature_name = \"BTCt\" #            feature_name:  name it to represent the substance of the feature or generically so no one but you knows what it is; e.g. 'x1'\n",
    "ft_params.ipp = \"last\" #                             ipp:  interpolation procedure - fill-in value if you miss a submission.  'last' or 'zero'"
   ]
  },
  {
   "cell_type": "code",
   "execution_count": 14,
   "id": "6cfcd33e-666d-4b99-87f1-6e98aa3dfc5a",
   "metadata": {
    "slideshow": {
     "slide_type": "-"
    },
    "tags": []
   },
   "outputs": [
    {
     "name": "stdout",
     "output_type": "stream",
     "text": [
      "<Response [200]>\n"
     ]
    }
   ],
   "source": [
    "features = JR.craft_features(ft_params, y1)\n",
    "payload = JR.format_payload(features)\n",
    "submit = JR.submit_feature(payload)\n",
    "print(submit)"
   ]
  },
  {
   "cell_type": "markdown",
   "id": "054eb82e-7bf8-433d-9bd8-cc0956b8826b",
   "metadata": {
    "slideshow": {
     "slide_type": "-"
    }
   },
   "source": [
    "----"
   ]
  },
  {
   "cell_type": "markdown",
   "id": "cf9ac043-3682-4c68-882e-5b25eb03bee3",
   "metadata": {
    "slideshow": {
     "slide_type": "skip"
    }
   },
   "source": [
    "## Live Feature Calculation and Submission"
   ]
  },
  {
   "cell_type": "markdown",
   "id": "a780d9e8-b224-432b-897e-93f5f0a3ebc9",
   "metadata": {},
   "source": [
    "The below functions make submitting live features easy.  Paste it in a .py script that gets called in a cron job.      \n",
    "\n",
    "Each data point is submitted three times.\n",
    "\n",
    "When invoked, a first \"safety\" guess is calculated and submitted to ensure it is recorded well before the feature submission deadline.\n",
    "\n",
    "The second and third submissions are send on user-configurable intervals calculated by percentage of time remaining before the close of the window.  For example, if the script is run 10 minutes before the close of a window with \"firstdelay\" set to 0.50 and the seconddelay set to \"0.90\" the execution would happen as follows:\n",
    "\n",
    "- T-00:10 Initial Submission\n",
    "- T-00:05 Second Submission\n",
    "- T-00:09 Last Submission\n",
    "- T-00:00 Feature Submission Deadline is Over"
   ]
  },
  {
   "cell_type": "code",
   "execution_count": 15,
   "id": "c8b1149d-3387-4920-8383-9cfdf9615ffe",
   "metadata": {},
   "outputs": [],
   "source": [
    "def fcs(asset, params):\n",
    "    \"\"\" fetch, calculate, and submit once \"\"\"\n",
    "    hddf = HD.fetch_hd(asset)\n",
    "    fdf = feature_gen(hddf)\n",
    "    features = JR.craft_features(params, fdf)\n",
    "    payload = JR.format_payload(features)\n",
    "    submit = JR.submit_feature(payload)\n",
    "    return submit\n",
    "    \n",
    "def live_fcs(asset, params, firstdelay, seconddelay):\n",
    "        \"\"\"\n",
    "        calculate and submit feature data 3 times, throttled by percentage\n",
    "        of time remaining until end of widow\n",
    "        \n",
    "        first submission = immediate\n",
    "        second submission = % of remaining time in window ex. .30 = 3 minutes of 10 remaining\n",
    "        last submission = % of remaining time in window ex, .90 = 9 of 10 remaining\n",
    "        \"\"\"\n",
    "        \n",
    "        # determine current time\n",
    "        now = datetime.now()\n",
    "        print(\"Current time: \" + now.strftime(\"%Y-%m-%dT%H:%M:%SZ\"))\n",
    "        \n",
    "        # determine the upcoming deadline (end of window)\n",
    "        # FIXME: don't assume windows are anchored to 00:00\n",
    "        genesis_time = datetime.utcnow().today().replace(microsecond=0, second=0, minute=0, hour=0)\n",
    "        \n",
    "        # set deadline anchor time\n",
    "        deadline = genesis_time\n",
    "        print(\"Genesis: \" + genesis_time.strftime(\"%Y-%m-%dT%H:%M:%SZ\"))\n",
    "        \n",
    "        # create timedelta object based on MBS parameter\n",
    "        window = timedelta(minutes=int(params.mbs))\n",
    "        \n",
    "        # iterate through block times until current time is passed, set deadline\n",
    "        while now > deadline:\n",
    "            deadline = deadline + window\n",
    "            \n",
    "        print(\"Next Block End: \" + deadline.strftime(\"%Y-%m-%dT%H:%M:%SZ\"))\n",
    "        \n",
    "        # calculate time remaining until window close\n",
    "        remaining = deadline - now\n",
    "        \n",
    "        # caculate delays (seconds)\n",
    "        delay1 = int(remaining.total_seconds() * firstdelay)\n",
    "        delay2 = int(remaining.total_seconds() * seconddelay) - delay1\n",
    "        \n",
    "        # submit immediately\n",
    "        s1 = fcs(asset, ft_params)\n",
    "        print(\"First submission at \" + datetime.now().strftime(\"%Y-%m-%dT%H:%M:%SZ\"))\n",
    "        print(s1)\n",
    "        \n",
    "        # sleep, recalculate, and send agin\n",
    "        time.sleep(delay1)\n",
    "        s2 = fcs(asset, ft_params)\n",
    "        print(\"Second submission at \" + datetime.now().strftime(\"%Y-%m-%dT%H:%M:%SZ\"))\n",
    "        print(s2)\n",
    "        \n",
    "        # sleep, recalculate, and send final\n",
    "        time.sleep(delay2)\n",
    "        s3 = fcs(asset, ft_params)\n",
    "        print(\"Final submission at \" + datetime.now().strftime(\"%Y-%m-%dT%H:%M:%SZ\"))        \n",
    "        print(s3)"
   ]
  },
  {
   "cell_type": "code",
   "execution_count": 16,
   "id": "230d854c-ba28-49bb-bb31-f5f954181998",
   "metadata": {
    "tags": []
   },
   "outputs": [
    {
     "ename": "NameError",
     "evalue": "name 'asset' is not defined",
     "output_type": "error",
     "traceback": [
      "\u001b[0;31m---------------------------------------------------------------------------\u001b[0m",
      "\u001b[0;31mNameError\u001b[0m                                 Traceback (most recent call last)",
      "Input \u001b[0;32mIn [16]\u001b[0m, in \u001b[0;36m<cell line: 1>\u001b[0;34m()\u001b[0m\n\u001b[0;32m----> 1\u001b[0m live_fcs(\u001b[43masset\u001b[49m, ft_params, \u001b[38;5;241m.50\u001b[39m, \u001b[38;5;241m.90\u001b[39m)\n",
      "\u001b[0;31mNameError\u001b[0m: name 'asset' is not defined"
     ]
    }
   ],
   "source": [
    "live_fcs(asset, ft_params, .50, .90)"
   ]
  },
  {
   "cell_type": "code",
   "execution_count": 79,
   "id": "d34aef0c-3a0c-419e-84ba-dc92a63a6432",
   "metadata": {},
   "outputs": [
    {
     "data": {
      "text/html": [
       "\n",
       "        <iframe\n",
       "            width=\"1200\"\n",
       "            height=\"350\"\n",
       "            src=\"http://ec2-18-223-235-219.us-east-2.compute.amazonaws.com:3838/ShinyPractice/dev/\"\n",
       "            frameborder=\"0\"\n",
       "            allowfullscreen\n",
       "            \n",
       "        ></iframe>\n",
       "        "
      ],
      "text/plain": [
       "<IPython.lib.display.IFrame at 0x7f8179699a60>"
      ]
     },
     "execution_count": 79,
     "metadata": {},
     "output_type": "execute_result"
    }
   ],
   "source": [
    "from IPython.display import IFrame\n",
    "IFrame('http://ec2-18-223-235-219.us-east-2.compute.amazonaws.com:3838/ShinyPractice/dev/', width=1200, height=350)"
   ]
  },
  {
   "cell_type": "code",
   "execution_count": null,
   "id": "900e9248-aea8-48e8-bc3a-35dcffad37b5",
   "metadata": {},
   "outputs": [],
   "source": []
  }
 ],
 "metadata": {
  "celltoolbar": "Slideshow",
  "kernelspec": {
   "display_name": "Python 3 (ipykernel)",
   "language": "python",
   "name": "python3"
  },
  "language_info": {
   "codemirror_mode": {
    "name": "ipython",
    "version": 3
   },
   "file_extension": ".py",
   "mimetype": "text/x-python",
   "name": "python",
   "nbconvert_exporter": "python",
   "pygments_lexer": "ipython3",
   "version": "3.9.10"
  }
 },
 "nbformat": 4,
 "nbformat_minor": 5
}
