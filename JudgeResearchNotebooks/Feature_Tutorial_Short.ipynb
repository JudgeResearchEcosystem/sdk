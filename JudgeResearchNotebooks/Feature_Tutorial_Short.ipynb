{
 "cells": [
  {
   "cell_type": "markdown",
   "id": "5a8d98de-01d1-457c-a1ab-248a573c90ff",
   "metadata": {},
   "source": [
    "![werwe](https://uploads-ssl.webflow.com/625391e03972c921373d60ba/6296d332b7e7cd998bf9035b_judge_logo_white.png)\n",
    "\n",
    "&nbsp;\n",
    "\n",
    "\n",
    "\n",
    "# Tutorial:  Towards a Sophisticated Research Methodology \n",
    "\n",
    "*Read time:  11 min.* \n",
    "\n",
    "&nbsp;\n",
    "\n",
    "----\n",
    "\n",
    "This tutorial demonstrates the ease-of-use and power of Judge Research.  If you complete it while referring back to our [wiki](https://judgeresearch.notion.site/The-Judge-Research-Wiki-37d2ae0159254928b483f01fec87b576) whenever a step's logic is not clear to you, you will be fully ready to use Judge Research.  \n",
    "\n",
    "You can use Judge Research to (1) contribute to the decentralized systematic fund & be rewarded; (2) test competing operationalizations with extreme rigour; (3) compare findings from initial (validation set) findings and live findings as they come in; and (4) engineer features that represent something important about the market, and develop rich dashboards that communicate that information in real time.\n",
    "\n",
    "----\n",
    "\n",
    "![](https://uploads-ssl.webflow.com/625391e03972c921373d60ba/626b3edab9b30b7f49b3f554_23519116918_1a87106387_k.jpeg)\n",
    "\n",
    "\n",
    "\n",
    "\n"
   ]
  },
  {
   "cell_type": "markdown",
   "id": "d48b0c0e-f88d-48a9-be6c-87774f704392",
   "metadata": {
    "slideshow": {
     "slide_type": "slide"
    }
   },
   "source": [
    "----\n",
    "\n",
    "## Introduction\n",
    "\n",
    "**The Workflow:**  You now have the data environment of a world-class hedge fund at your fingertips.  You can use it in this notebook to engage in feature engineering and display your preliminary findings in a single cohesive document; then submit your features to Judge Research and embed the live, interactive data tools from your dashboard into this document.    \n",
    "\n",
    "**What it Accomplishes:**  With a few clicks, you turn this document into a live research tool linked up to an AI run on massively parallel processes & coded out by a team of PhDs.  It evaluates your features across millions of modeling contexts, ranks and compares them to what is in the market's larger data environment, and rigorously tests them for overfit.    \n",
    "\n",
    "----\n"
   ]
  },
  {
   "cell_type": "markdown",
   "id": "aea99b79-d5ea-4b1e-9647-ca68a10d4173",
   "metadata": {
    "slideshow": {
     "slide_type": "subslide"
    },
    "tags": []
   },
   "source": [
    "### The Tech Stack & the Decentralized Systematic Fund\n",
    "\n",
    "This tutorial is meant for those who want to be rewarded for contributing to the decentralized systematic fund, and to use the fund as a new *kind* of research tool.  \n",
    "\n",
    "We will soon be launching a SaaS version of the software.  It will allow you to take advantage of the above functionality without participating in the decentralized fund.  Your features & algorithms will be sent to a version of the AI that only looks at your fund's features and algorithms but still ranks & evaluates them for overfit in real time. \n",
    "\n",
    "Likewise, you can use the SaaS version to collaborate with other funds without revealing IP to one another.  We believe this type of collaboration is novel and has significant implications for the industry - allowing a small set of funds to match the capacities of the largest systematic funds.       \n",
    "\n",
    "----"
   ]
  },
  {
   "cell_type": "markdown",
   "id": "e34ba578-4c9b-4629-a922-110eae81e201",
   "metadata": {},
   "source": [
    "# Outline:  The Basic Steps for Submitting Your Features\n",
    "\n",
    "There are **three preliminary steps:**  \n",
    "\n",
    "1.  Authenticate & Setup the Workspace.\n",
    "2.  Configure the parameters of the historical data you would like to call, and the parameters of the series you are studying - for instance, the BTC-USD volatility series at 45 minute intervals.\n",
    "3.  Call, Organize & Clean the data.  \n",
    "\n",
    "These three steps are broken out by their underlying functions in the longer tutorial.  Here, wrapper functions shorten about 30 lines of code to one.  \n",
    "\n",
    "Step four is where you will spend 95% of your time:  Here you will **do your data exploration and feature engineering**.  There are then **three final steps:** \n",
    "\n",
    "5.  Submit your historical data.  This historical data submission will cover a time period from the beginning of a specified date - e.g. the 4 hr alpha test series begins on July  2019 - and continue up to the present moment.\n",
    "6.  Schedule the cron job to submit live features.\n",
    "7.  (Optional) Embed the data tools from your dashboard into the same notebook, writing up your findings to create live, interactive research tools and/or market signals. \n",
    "\n",
    "----\n",
    "\n"
   ]
  },
  {
   "cell_type": "markdown",
   "id": "6e7a0143-7cdd-4203-af91-706e715c66b8",
   "metadata": {
    "slideshow": {
     "slide_type": "slide"
    },
    "tags": []
   },
   "source": [
    "## 1.  Handle Your Authentications & Setup the Workspace\n",
    "Paste your keys:"
   ]
  },
  {
   "cell_type": "code",
   "execution_count": 1,
   "id": "7ac88d1d-ba1b-494d-a814-2d1c3d5cd55c",
   "metadata": {
    "tags": []
   },
   "outputs": [],
   "source": [
    "JR_API_KEY = \"xxx\" # Your Judge Research API was given to you upon sign-up.  You can find it under your profile.\n",
    "CA_API_KEY = \"xxx\" # Sign up at Coinalytix.io - 90 days free and no payment information need be entered.\n"
   ]
  },
  {
   "cell_type": "markdown",
   "id": "34101f15-e2ea-451d-92f0-29d228d05169",
   "metadata": {},
   "source": [
    "Import the Judge Research & Coinalytix packages, as well as the python tools want:"
   ]
  },
  {
   "cell_type": "code",
   "execution_count": 2,
   "id": "98443c8a-890d-4753-82d3-f16e371a0b00",
   "metadata": {
    "slideshow": {
     "slide_type": "-"
    },
    "tags": []
   },
   "outputs": [],
   "source": [
    "# Import classes that handle API connections and parameters\n",
    "from historical_data import Coinalytix, HDParams\n",
    "from judgeresearch import JudgeResearch, JRParams\n",
    "\n",
    "# Import classes for data handling & visualization \n",
    "import json\n",
    "import scipy \n",
    "import plotly.graph_objects as go\n",
    "import plotly\n",
    "import pandas as pd\n",
    "from datetime import date, datetime, timedelta\n",
    "import pandas_ta as ta\n",
    "import time\n",
    "import math\n",
    "import numpy as np\n",
    "import statsmodels.api as sm\n",
    "import statsmodels.formula.api as smf \n",
    "\n",
    "from sklearn.linear_model import LinearRegression\n",
    "from sklearn.neighbors import KNeighborsClassifier\n",
    "from sklearn.preprocessing import PolynomialFeatures\n",
    "import sklearn\n",
    "import requests # these two not in other imports\n",
    "import json\n",
    "\n",
    "import JudgeHelperFuncs as jh\n",
    "from watchlist import colors"
   ]
  },
  {
   "cell_type": "markdown",
   "id": "e8ff0165-be9b-4ed8-b23c-72e2d1e13391",
   "metadata": {
    "slideshow": {
     "slide_type": "slide"
    },
    "tags": []
   },
   "source": [
    "----\n",
    "\n",
    "## 2. Configure Assets, Call, Organize & Clean the Data\n",
    "Define the parameters for the historical data you want to call.  Typically, you want to line up the start date(s) of your historical data with the start date of the GA instance(s) to which you'll eventually submit features.  You can finds those dates in our [wiki](https://judgeresearch.notion.site/The-Judge-Research-Wiki-37d2ae0159254928b483f01fec87b576). The below calls data from `startDateString` to t-1. \n",
    "\n",
    "One useful convenience function from the JudgeHelperFuncs module is a little regex + querying coinalytix for what assets are available:"
   ]
  },
  {
   "cell_type": "code",
   "execution_count": null,
   "id": "9842b832-2762-4361-848f-7dd9d5d026c0",
   "metadata": {
    "tags": []
   },
   "outputs": [],
   "source": [
    "tc = jh.whichTickers(verbose = False, apiKey = CA_API_KEY, Which2 = \"ETH\", Which='[0-9]+|PERP', WhichExch ='') # tc: this call\n",
    "print(tc)"
   ]
  },
  {
   "cell_type": "markdown",
   "id": "12393a3c-b1f1-41a1-a324-2710cd20d91d",
   "metadata": {},
   "source": [
    "But let's start with an easy call of a couple spot prices:"
   ]
  },
  {
   "cell_type": "code",
   "execution_count": null,
   "id": "4020c12a-a0e6-489a-bb6c-be4b68b15b9f",
   "metadata": {
    "tags": []
   },
   "outputs": [],
   "source": [
    "XDict = jh.assetCallLoop(exchangeList = ['BINANCE'], assetList = ['BTC-USDT-SPOT', 'ETH-USDT-SPOT'], startDateString = \"2019-07-01 00:00:00\", perSize = '4h', APIKey = CA_API_KEY, verbose = True)"
   ]
  },
  {
   "cell_type": "markdown",
   "id": "ada756ab-daba-4614-90ed-f4b5a2107d3d",
   "metadata": {
    "slideshow": {
     "slide_type": "slide"
    },
    "tags": []
   },
   "source": [
    "----\n",
    "\n",
    "<img src = \"https://uploads-ssl.webflow.com/625391e03972c921373d60ba/6296d332b7e7cd998bf9035b_judge_logo_white.png\" width=400>\n",
    "\n",
    "## 4.  The Main Section:  Your Feature Engineering Sandbox\n",
    "\n",
    "It is good practice to write your preliminary findings down and frame explicitly the hypotheses you are investigating by sending your features into Judge Research.  Obviously, that is true with all research, but Judge Research is more than an AI:  It suggests an organization to your research that helps you confirm your intitial (validation set) findings with live data *at scale.*\n",
    "\n",
    "That is easy for any professional researcher to do for a small set of findings, but to making research **truly cumulative over the long run** is one of the primary functions of Judge Research. "
   ]
  },
  {
   "cell_type": "code",
   "execution_count": 5,
   "id": "ae67a73d-ede9-492a-8fd9-a27f2b1381dd",
   "metadata": {},
   "outputs": [],
   "source": [
    "btc = XDict['BTC-USDT-SPOT']\n",
    "eth = XDict['ETH-USDT-SPOT']\n",
    "\n",
    "# lets just take btc for our working example:  \n",
    "y1 = (eth['Open'] - eth['Close']) / eth['Open']\n",
    "y1 = y1\n",
    "\n",
    "y1 = pd.concat(([eth['StartDate'], y1]), axis = 1)\n",
    "y1.columns = ['StartDate', 'feature']\n",
    "y1 = y1.applymap(str)"
   ]
  },
  {
   "cell_type": "markdown",
   "id": "4794876a-8bf7-420d-9849-423c00d44fca",
   "metadata": {
    "slideshow": {
     "slide_type": "-"
    },
    "tags": []
   },
   "source": [
    "y1.head(5)"
   ]
  },
  {
   "cell_type": "markdown",
   "id": "21220620-71ab-4ed7-b74f-e169f81a6665",
   "metadata": {},
   "source": [
    "As a further example, here are the simple are some simple moving average functions.  You can ignore the details of the function.  The key substantive point is our AI is really useful for comparing good operationalizations of similar concepts.  Normally when one compares opationalizations it is in a single research context, and that (n = 1) workflow leads to overfitting or fragile research. "
   ]
  },
  {
   "cell_type": "code",
   "execution_count": 7,
   "id": "a35d7e0a-8fbf-4f86-8b94-2090cca24e99",
   "metadata": {
    "tags": []
   },
   "outputs": [],
   "source": [
    "def feature_gen(df):\n",
    "    ''' calculate macd, awesome oscillator, and bbands '''\n",
    "    df.ta.macd(fast=8, slow=21, signal=9, min_periods=None, append=True) #                      MACD\n",
    "    df.ta.ao(high=df[\"High\"], low=df[\"Low\"], window1=5, window2=34, fillna=True, append=True) # Awesome Oscillator \n",
    "    df[\"AO_5_34\"] = pd.to_numeric(df[\"AO_5_34\"])\n",
    "    df.ta.bbands(close=df[\"Close\"], append=True) #                                              Bollinger Bands\n",
    "    df[\"feature\"] = (df[\"AO_5_34\"] - df[\"MACDs_8_21_9\"]) * df[\"BBP_5_2.0\"] #                    Calculate the feature by finding the difference of MACDs and AO, multiply by BBANDS\n",
    "    df = df.fillna(0)\n",
    "    return df"
   ]
  },
  {
   "cell_type": "markdown",
   "id": "1f615dbe-6b37-41fc-bb7d-69356761f804",
   "metadata": {},
   "source": [
    "The key data-wrangling point below is to notice how the final feature that one wants to submit it labeled, exactly, 'feature.'  The SDK's formatting function takes in a time series DataFrame, grabs the column labeled 'feature', and the row labels, and translates it into a JSON that Judge Research's API understands.  "
   ]
  },
  {
   "cell_type": "code",
   "execution_count": null,
   "id": "d4961b27-3195-4d00-902a-f3c0ede143c1",
   "metadata": {},
   "outputs": [],
   "source": [
    "fdf = feature_gen(eth)\n",
    "fdf.tail(3)"
   ]
  },
  {
   "cell_type": "markdown",
   "id": "8859cee3-703e-4daa-a7aa-ff410b7f517a",
   "metadata": {
    "tags": []
   },
   "source": [
    "### Write Up Your Findings\n",
    "\n",
    "Record your initial findings so they are clear to you and others in the **far off** in the future.  When we're done submitting features to the JR AI via the API, we'll embed live data tools into this document, so it can become a living, breathing research tool that you might use for months or years on end.  \n",
    "\n",
    "That longevity of practical use makes clearly stating your initial findings all the more important.   \n",
    "\n",
    "\n"
   ]
  },
  {
   "cell_type": "markdown",
   "id": "4e025d06-6fa3-48ab-9676-2c9ffc88720f",
   "metadata": {},
   "source": [
    "----"
   ]
  },
  {
   "cell_type": "markdown",
   "id": "aeac4ffd-39b3-4299-988c-67fb68a86888",
   "metadata": {},
   "source": [
    "\n",
    "<img src = \"https://uploads-ssl.webflow.com/625391e03972c921373d60ba/6296d332b7e7cd998bf9035b_judge_logo_white.png\" width=400>\n",
    "\n",
    "## 7.  Reference your live findings\n",
    "\n",
    "Let's do things a bit out of order:  In steps 5 & 6, we submit our historical data & our live data.  We put that at the end of the document, so we can have a cohesive research   By embedding the data tools you find at Judge Research here, you hook this document up to our AI, making it a live, interactive tool."
   ]
  },
  {
   "cell_type": "markdown",
   "id": "fa491a06-5929-4bc3-b2f3-de19c1418d8e",
   "metadata": {
    "tags": []
   },
   "source": [
    "Add charts from judgeresearch.co -> member portal -> my profile.  The below is an example from a team member's profile.\n",
    "\n",
    "Notice the '%%html' that immediately procedes the html object"
   ]
  },
  {
   "cell_type": "code",
   "execution_count": 9,
   "id": "9c112c89-61cb-4813-b033-54c9c0ec97f7",
   "metadata": {
    "tags": []
   },
   "outputs": [
    {
     "data": {
      "text/html": [
       "<center><iframe src=\"http://ec2-18-223-235-219.us-east-2.compute.amazonaws.com:3838/ShinyPractice/LinePlot/54ckzfe5tj\" width=\"100%\" height=\"615\" frameBorder=\"0\" allowFullScreen></iframe><p><a href=\"http://ec2-18-223-235-219.us-east-2.compute.amazonaws.com:3838/ShinyPractice/LinePlot/54ckzfe5tj\"></a></p></center>\n"
      ],
      "text/plain": [
       "<IPython.core.display.HTML object>"
      ]
     },
     "metadata": {},
     "output_type": "display_data"
    }
   ],
   "source": [
    "%%html\n",
    "<center><iframe src=\"http://ec2-18-223-235-219.us-east-2.compute.amazonaws.com:3838/ShinyPractice/LinePlot/54ckzfe5tj\" width=\"100%\" height=\"615\" frameBorder=\"0\" allowFullScreen></iframe><p><a href=\"http://ec2-18-223-235-219.us-east-2.compute.amazonaws.com:3838/ShinyPractice/LinePlot/54ckzfe5tj\"></a></p></center>"
   ]
  },
  {
   "cell_type": "markdown",
   "id": "b7a6e3d7-6492-40e7-8e09-35451cb78e2f",
   "metadata": {},
   "source": [
    "----\n",
    "## Steps 5 Submitting Your Feature's Historial Time Series to Judge Research"
   ]
  },
  {
   "cell_type": "markdown",
   "id": "ff5f6371-1311-463a-a469-3c6b665674e9",
   "metadata": {
    "slideshow": {
     "slide_type": "slide"
    }
   },
   "source": [
    "To submit historical data to Judge Research's AI, you,\n",
    "\n",
    "1.  Prepare the connection, \n",
    "\n",
    "2.  Choose information to tell the API: \n",
    "- The instance of the GA you are submitting (e.g. BTC-USD at a 4 hour time period) \n",
    "- What you are labeling your feature (e.g. 'x1' so as to not reveal any IP), and \n",
    "- The interpolation procedure for when you miss the occassional submission.\n",
    "\n",
    "3.  Fromat the payload\n",
    "4.  And submit the feature!\n"
   ]
  },
  {
   "cell_type": "code",
   "execution_count": 10,
   "id": "e10588eb-a470-4763-a187-e850010b00f1",
   "metadata": {
    "slideshow": {
     "slide_type": "-"
    }
   },
   "outputs": [],
   "source": [
    "JR = JudgeResearch()\n",
    "JR.with_api_key(JR_API_KEY)"
   ]
  },
  {
   "cell_type": "markdown",
   "id": "75c3647d-07db-4375-a28c-d644a889b236",
   "metadata": {
    "slideshow": {
     "slide_type": "slide"
    }
   },
   "source": [
    "Format the Historical Features:  Below we specify which instance(s) of the AI are going to receive our feature(s).  Each instance is trained on a different dependent variable.   We communicate this to Judge Research by formatting our feature(s) as their JSON.  See the [API documentation in our wiki](https://judgeresearch.notion.site/Use-The-API-5143af17c10f407d91a8860a7c91936e) for information about each argument. \n",
    "\n",
    "For example, here we specify this submission is for BTC-USD at the 45 minute interval, and we label it 'BTCt' for BTC at time *t*.   "
   ]
  },
  {
   "cell_type": "code",
   "execution_count": 13,
   "id": "f975ee4d-4259-47d8-8b2a-6f6b146662aa",
   "metadata": {
    "slideshow": {
     "slide_type": "-"
    },
    "tags": []
   },
   "outputs": [],
   "source": [
    "ft_params = JRParams()\n",
    "ft_params.mbs= \"240\" #                mbs: 'minute bloc size' - the size of the discrete time bloc.  In the alpha test, options are 45 & 240.  \n",
    "ft_params.feature_name = \"BTCt\" #     feature_name: name it to represent the substance of the feature or generically so no one but you knows what it is; e.g. 'x1'\n",
    "ft_params.ipp = \"last\" #              ipp: interpolation procedure - fill-in value if you miss a submission.  'last' or 'zero'"
   ]
  },
  {
   "cell_type": "markdown",
   "id": "f7d84f39-4f18-400d-a47e-a8d32fb5e087",
   "metadata": {
    "slideshow": {
     "slide_type": "-"
    },
    "tags": []
   },
   "source": [
    "features = JR.craft_features(ft_params, y1)\n",
    "payload = JR.format_payload(features)\n",
    "submit = JR.submit_feature(payload)\n",
    "print(submit)"
   ]
  },
  {
   "cell_type": "markdown",
   "id": "054eb82e-7bf8-433d-9bd8-cc0956b8826b",
   "metadata": {
    "slideshow": {
     "slide_type": "-"
    }
   },
   "source": [
    "----"
   ]
  },
  {
   "cell_type": "markdown",
   "id": "cf9ac043-3682-4c68-882e-5b25eb03bee3",
   "metadata": {
    "slideshow": {
     "slide_type": "skip"
    }
   },
   "source": [
    "## 6. Live Feature Calculation and Submission"
   ]
  },
  {
   "cell_type": "markdown",
   "id": "a780d9e8-b224-432b-897e-93f5f0a3ebc9",
   "metadata": {},
   "source": [
    "Now it's time to schedule the live submissions.  You don't want to load a full notebook every time, so switch over to Feature_Tutorial_live.py to see the rest.  You can find the functions that script calls in the JudgeHelperFuncs.py module, which we typically load into workspaces as 'jh'.  \n",
    "\n",
    "There are a few idiosyncrasies that come from scheduling the cron job w/ Docker's build.  It just requires you to tweak the cron a bit.  So we put together a short [page of our wiki](https://judgeresearch.notion.site/Scheduling-Your-Live-Send-Scripts-fc64827cedf4469ab826e1df2c25867f) for your convenience.  "
   ]
  }
 ],
 "metadata": {
  "celltoolbar": "Slideshow",
  "kernelspec": {
   "display_name": "Python 3 (ipykernel)",
   "language": "python",
   "name": "python3"
  },
  "language_info": {
   "codemirror_mode": {
    "name": "ipython",
    "version": 3
   },
   "file_extension": ".py",
   "mimetype": "text/x-python",
   "name": "python",
   "nbconvert_exporter": "python",
   "pygments_lexer": "ipython3",
   "version": "3.9.10"
  }
 },
 "nbformat": 4,
 "nbformat_minor": 5
}
